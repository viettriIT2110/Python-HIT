{
 "cells": [
  {
   "cell_type": "code",
   "execution_count": 14,
   "metadata": {},
   "outputs": [],
   "source": [
    "import numpy as np\n",
    "import pandas as pd\n",
    "from sklearn import linear_model"
   ]
  },
  {
   "cell_type": "code",
   "execution_count": 15,
   "metadata": {},
   "outputs": [],
   "source": [
    "# đọc file csv\n",
    "def read_data(csv_file):\n",
    "    csv_df = pd.read_csv(csv_file)\n",
    "    return csv_df"
   ]
  },
  {
   "cell_type": "code",
   "execution_count": 16,
   "metadata": {},
   "outputs": [],
   "source": [
    "# chuyển đổi ma trận\n",
    "def split_data(csv_df):\n",
    "    input = csv_df.iloc[:, :-1]\n",
    "    output = csv_df.iloc[:, -1]\n",
    "    x = input.values\n",
    "    y = output.values.reshape((-1, 1))\n",
    "    return x, y"
   ]
  },
  {
   "cell_type": "code",
   "execution_count": 17,
   "metadata": {},
   "outputs": [],
   "source": [
    "def find_optimize(input, outcome):\n",
    "    \"\"\"\n",
    "    input.T: chuyển vị của ma trận input\n",
    "    np.dot(a,b) : nhân từng phần tử của ma trận a với ma trận b\n",
    "    np.linalg.pinv(x): tìm giả ngịch đảo/ ngịch đảo của ma trận x\n",
    "    \"\"\"\n",
    "    w = np.dot(np.linalg.pinv(np.dot(input.T, input)), np.dot(input.T, outcome))\n",
    "    return w\n"
   ]
  },
  {
   "cell_type": "code",
   "execution_count": 18,
   "metadata": {},
   "outputs": [],
   "source": [
    "# dùng thư viện ... để so sánh :v \n",
    "def optimize_with_sklearn(input, outcome):\n",
    "    regr = linear_model.LinearRegression(fit_intercept=False)\n",
    "    regr.fit(input, outcome)\n",
    "    return regr.coef_"
   ]
  },
  {
   "cell_type": "code",
   "execution_count": 19,
   "metadata": {},
   "outputs": [],
   "source": [
    "def get_loss_value(input, outcome, w):\n",
    "    cost = 0\n",
    "    y_hat = np.dot(input, w)\n",
    "    for x, y in zip(outcome, y_hat):\n",
    "        print('Outcome:', x[0], 'Predict:', y[0])\n",
    "        cost += pow(x[0] - y[0], 2)\n",
    "    return cost / 2"
   ]
  },
  {
   "cell_type": "code",
   "execution_count": 20,
   "metadata": {},
   "outputs": [],
   "source": [
    "def predict_new_data(input, w):\n",
    "    # convert to input_bar\n",
    "    one = np.ones((input.shape[0], 1))\n",
    "    input = np.concatenate((one, input), axis=1)\n",
    "    return np.dot(input, w)"
   ]
  },
  {
   "cell_type": "code",
   "execution_count": 23,
   "metadata": {},
   "outputs": [
    {
     "name": "stdout",
     "output_type": "stream",
     "text": [
      "    exam1  exam2  exam3  final_exam\n",
      "0      73     80     75         152\n",
      "1      93     88     93         185\n",
      "2      89     91     90         180\n",
      "3      96     98    100         196\n",
      "4      73     66     70         142\n",
      "5      53     46     55         101\n",
      "6      69     74     77         149\n",
      "7      47     56     60         115\n",
      "8      87     79     90         175\n",
      "9      79     70     88         164\n",
      "10     69     70     73         141\n",
      "11     70     65     74         141\n",
      "12     93     95     91         184\n",
      "13     79     80     73         152\n",
      "14     70     73     78         148\n",
      "15     93     89     96         192\n",
      "16     78     75     68         147\n",
      "17     81     90     93         183\n",
      "18     88     92     86         177\n",
      "19     78     83     77         159\n",
      "20     82     86     90         177\n",
      "21     86     82     89         175\n",
      "22     78     83     85         175\n",
      "[[-3.60493753  0.34979795  0.57008633  1.13813561]]\n",
      "[[-3.60493753  0.34979795  0.57008633  1.13813561]]\n",
      "Outcome: 152 Predict: 152.89738963934622\n",
      "Outcome: 185 Predict: 184.94048014785733\n",
      "Outcome: 180 Predict: 181.83714053772002\n",
      "Outcome: 196 Predict: 199.6576865570704\n",
      "Outcome: 142 Predict: 139.22550295491703\n",
      "Outcome: 101 Predict: 103.75578328430947\n",
      "Outcome: 149 Predict: 150.35395107769\n",
      "Outcome: 115 Predict: 113.04853696436658\n",
      "Outcome: 175 Predict: 174.29650866162007\n",
      "Outcome: 164 Predict: 164.09107689054792\n",
      "Outcome: 141 Predict: 143.5210633205304\n",
      "Outcome: 141 Predict: 142.15856521389736\n",
      "Outcome: 184 Predict: 186.65481325725722\n",
      "Outcome: 152 Predict: 152.719906101143\n",
      "Outcome: 148 Predict: 151.27179829904793\n",
      "Outcome: 192 Predict: 188.92497330173154\n",
      "Outcome: 147 Predict: 143.82899845863\n",
      "Outcome: 183 Predict: 181.8830774590906\n",
      "Outcome: 177 Predict: 177.50488649448562\n",
      "Outcome: 159 Predict: 158.63290958024135\n",
      "Outcome: 177 Predict: 176.53812325528668\n",
      "Outcome: 175 Predict: 174.51883410425762\n",
      "Outcome: 175 Predict: 167.7379944385786\n",
      "Loss value: 69.64908108371175\n",
      "Predict new label: [[152.40993391]]\n"
     ]
    }
   ],
   "source": [
    "if __name__ == '__main__':\n",
    "    df = read_data('data_train.csv')\n",
    "    print(df)\n",
    "    input, outcome = split_data(df)\n",
    "    # chuyển ma trận input sang ma trận input bar\n",
    "    # bằng cách thêm vector cột giá trị 1 vào trước ma trận\n",
    "    one = np.ones((input.shape[0], 1))\n",
    "    input = np.concatenate((one, input), axis=1)\n",
    "    w1 = find_optimize(input, outcome) # w1 là giá trị tự tìm\n",
    "    w2 = optimize_with_sklearn(input, outcome) # w2 là giá trị sử dụng thư viện sklearn\n",
    "    # In 2 giá trị để đối chiếu\n",
    "    print(w1.T)\n",
    "    print(w2)\n",
    "    print('Loss value:', get_loss_value(input, outcome, w1))\n",
    "    print('Predict new label:', predict_new_data(np.array([[70, 73, 79]]), w1))"
   ]
  },
  {
   "cell_type": "code",
   "execution_count": null,
   "metadata": {},
   "outputs": [],
   "source": []
  }
 ],
 "metadata": {
  "kernelspec": {
   "display_name": "Python 3",
   "language": "python",
   "name": "python3"
  },
  "language_info": {
   "codemirror_mode": {
    "name": "ipython",
    "version": 3
   },
   "file_extension": ".py",
   "mimetype": "text/x-python",
   "name": "python",
   "nbconvert_exporter": "python",
   "pygments_lexer": "ipython3",
   "version": "3.7.3"
  }
 },
 "nbformat": 4,
 "nbformat_minor": 2
}
