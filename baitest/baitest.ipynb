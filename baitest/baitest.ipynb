{
 "cells": [
  {
   "cell_type": "markdown",
   "metadata": {},
   "source": [
    "#  bài 1"
   ]
  },
  {
   "cell_type": "code",
   "execution_count": 7,
   "metadata": {},
   "outputs": [
    {
     "name": "stdout",
     "output_type": "stream",
     "text": [
      "2 \n",
      "100 100\n",
      "Đáp án là :  0\n"
     ]
    }
   ],
   "source": [
    "n = int(input())\n",
    "arr = list(map(int, input().split()))\n",
    "tong = sum(arr)\n",
    "nho = 0\n",
    "Min = 1e9\n",
    "for i in arr:\n",
    "    nho += i;\n",
    "    k = tong-nho\n",
    "    Min = min(Min,abs(nho-k))\n",
    "print('Đáp án là : ', Min)"
   ]
  },
  {
   "cell_type": "markdown",
   "metadata": {},
   "source": [
    "# bài 2"
   ]
  },
  {
   "cell_type": "code",
   "execution_count": 4,
   "metadata": {},
   "outputs": [
    {
     "name": "stdout",
     "output_type": "stream",
     "text": [
      "1 2 3\n",
      "Set 1: [2, 1]\n",
      "Set 2: [3]\n"
     ]
    }
   ],
   "source": [
    "arr = list(map(int, input().split()))\n",
    "import random\n",
    "random.shuffle(arr)\n",
    "i = int(len(arr)*0.7)\n",
    "print('Set 1:', arr[:i])\n",
    "print('Set 2:', arr[i:])"
   ]
  },
  {
   "cell_type": "markdown",
   "metadata": {},
   "source": [
    "# bài 3"
   ]
  },
  {
   "cell_type": "code",
   "execution_count": 1,
   "metadata": {},
   "outputs": [
    {
     "name": "stdout",
     "output_type": "stream",
     "text": [
      "6\n",
      "1 12 22 11 1221 7898\n",
      "đáp án là : \n",
      "1  22  11  1221  "
     ]
    }
   ],
   "source": [
    "def reverses(a):\n",
    "    k = 0\n",
    "    while(a>0):\n",
    "        k*=10\n",
    "        k+=a%10\n",
    "        a//=10\n",
    "    return k\n",
    "n = int(input())\n",
    "arr = list(map(int, input().split()))\n",
    "print('đáp án là : ')\n",
    "for i in arr:\n",
    "    if i == reverses(i):\n",
    "        print(i, end = '  ')"
   ]
  },
  {
   "cell_type": "code",
   "execution_count": null,
   "metadata": {},
   "outputs": [],
   "source": []
  }
 ],
 "metadata": {
  "kernelspec": {
   "display_name": "Python 3",
   "language": "python",
   "name": "python3"
  },
  "language_info": {
   "codemirror_mode": {
    "name": "ipython",
    "version": 3
   },
   "file_extension": ".py",
   "mimetype": "text/x-python",
   "name": "python",
   "nbconvert_exporter": "python",
   "pygments_lexer": "ipython3",
   "version": "3.7.3"
  }
 },
 "nbformat": 4,
 "nbformat_minor": 2
}
